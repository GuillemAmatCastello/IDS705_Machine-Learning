{
 "cells": [
  {
   "cell_type": "markdown",
   "metadata": {},
   "source": [
    "# Assignment 1 - Probability, Linear Algebra, Programming, and Git"
   ]
  },
  {
   "cell_type": "markdown",
   "metadata": {},
   "source": [
    "## *Guillem Amat Castelló*\n",
    "Netid: ga98"
   ]
  },
  {
   "cell_type": "markdown",
   "metadata": {},
   "source": [
    "Instructions for all assignments can be found [here](https://github.com/kylebradbury/ids705/blob/master/assignments/_Assignment%20Instructions.ipynb), which is also linked to from the [course syllabus](https://kylebradbury.github.io/ids705/index.html)."
   ]
  },
  {
   "cell_type": "markdown",
   "metadata": {},
   "source": [
    "# Probability and Statistics Theory"
   ]
  },
  {
   "cell_type": "markdown",
   "metadata": {},
   "source": [
    "*Note: for all assignments, write out all equations and math using markdown and [LaTeX](https://tobi.oetiker.ch/lshort/lshort.pdf). For this assignment show ALL math work*"
   ]
  },
  {
   "cell_type": "markdown",
   "metadata": {},
   "source": [
    "## 1\n",
    "**[3 points]**  \n",
    "Let $f(x) = \\begin{cases}\n",
    "                0           & x < 0  \\\\\n",
    "                \\alpha x^2  & 0 \\leq x \\leq 2 \\\\\n",
    "                0           & 2 < x\n",
    "            \\end{cases}$\n",
    "            \n",
    "For what value of $\\alpha$ is $f(x)$ a valid probability density function?"
   ]
  },
  {
   "cell_type": "markdown",
   "metadata": {},
   "source": [
    "**ANSWER**\n",
    "\n",
    "$$\\int_{0}^{2} \\alpha x^{2} dx= \\frac{x^3}{3}\\bigg\\rvert_{0}^{2} \\alpha = \\frac{2^3}{3}\\alpha - \\frac{0^3}{3}\\alpha= \\frac{8}{3}\\alpha$$\n",
    "\n",
    "**Solution**: In order for $f(x)$ to be a valid probability density function, it has to integrate to 1. Therefore alpha is equal to $\\frac{3}{8}$ "
   ]
  },
  {
   "cell_type": "markdown",
   "metadata": {},
   "source": [
    "## 2\n",
    "**[3 points]** What is the cumulative distribution function (CDF) that corresponds to the following probability distribution function? Please state the value of the CDF for all possible values of $x$.\n",
    "\n",
    "$f(x) = \\begin{cases}\n",
    "    \\frac{1}{3} & 0 < x < 3 \\\\\n",
    "    0           & \\text{otherwise}\n",
    "    \\end{cases}$"
   ]
  },
  {
   "cell_type": "markdown",
   "metadata": {},
   "source": [
    "**ANSWER**\n",
    "\n",
    "The CDF of the function will be 0 for every value equal or smaller than 0 and 1 for every value equal or greater than 3. For the range between 0 and 3, the integral will be computed:\n",
    "\n",
    "$$\\int_{0}^{x} \\frac{1}{3} dx= \\frac{x}{3} \\bigg\\rvert_{x}^{3} = \\frac{x}{3}$$\n",
    "\n",
    "Then,\n",
    "\n",
    "$f(x) = \\begin{cases}\n",
    "                0           & x \\leq 0  \\\\\n",
    "                \\frac{x}{3}  & 0 < x < 3 \\\\\n",
    "                1           & x \\geq 3\n",
    "            \\end{cases}$\n"
   ]
  },
  {
   "cell_type": "markdown",
   "metadata": {},
   "source": [
    "## 3\n",
    "**[6 points]** For the probability distribution function for the random variable $X$,\n",
    "\n",
    "$f(x) = \\begin{cases}\n",
    "    \\frac{1}{3} & 0 < x < 3 \\\\\n",
    "    0           & \\text{otherwise}\n",
    "    \\end{cases}$\n",
    "    \n",
    "what is the (a) expected value and (b) variance of $X$. *Show all work*."
   ]
  },
  {
   "cell_type": "markdown",
   "metadata": {},
   "source": [
    "**ANSWER**\n",
    "\n",
    "**(a) Expected Value:**\n",
    "\n",
    "$$\\int_{0}^{3} x f(x) dx = \\int_{0}^{3} \\frac{x}{3} dx = \\frac{x^2}{6} \\bigg\\rvert_{0}^{3} = \\frac{3^2}{6} - \\frac{0^2}{6} = \\frac{3}{2}$$\n",
    "\n",
    "**(b) Variance:**\n",
    "\n",
    "$$Var(x) = E[x^2] - E[x]^2 = \\int_{0}^{3} \\frac{x^2}{3} dx - \\left( \\frac{3}{2} \\right)^{2} = \\frac{x^3}{9}\\bigg\\rvert_{0}^{3} - \\frac{9}{4} = 3 - \\frac{9}{4} = \\frac{3}{4}$$"
   ]
  },
  {
   "cell_type": "markdown",
   "metadata": {},
   "source": [
    "## 4\n",
    "**[6 points]** Consider the following table of data that provides the values of a discrete data vector $\\mathbf{x}$ of samples from the random variable $X$, where each entry in $\\mathbf{x}$ is given as $x_i$.\n",
    "\n",
    "*Table 1. Dataset N=5 observations*\n",
    "\n",
    "|        | $x_0$ | $x_1$ | $x_2$ | $x_3$ | $x_4$ |\n",
    "|------  |-------|-------|-------|-------|-------|\n",
    "|$\\textbf{x}$| 2     | 3     | 10    | -1    | -1    |\n",
    "\n",
    "What is the (a) mean, (b) median, and the variance of the data? \n",
    "\n",
    "*Show all work. Your answer should include the definition of mean, median, and variance in the context of discrete data.*"
   ]
  },
  {
   "cell_type": "markdown",
   "metadata": {},
   "source": [
    "**ANSWER**\n",
    "\n",
    "**(a) Mean:** The mean is the sum of all the elements of a data vector divided by the count of elements in the vector.\n",
    "\n",
    "$$\\mu = \\frac{\\sum_{i=0}^{n}x_{i}}{n} = \\frac{2 + 3 + 10 - 1 - 1}{5} = 2.6$$\n",
    "\n",
    "**(b) Median:** The median is the $\\frac{(n + 1)}{2}$ element of a data vector. The median of X is 10. \n",
    "\n",
    "**(c) Variance:** The variance is the average of the squared differences between the mean and every element of a data vector.\n",
    "\n",
    "$$Var(X) = E[x^2] - E[x]^2 = \\left( \\frac{4 + 9 + 100 + 1 +1}{5}\\right) -\\left( \\frac{13}{5} \\right)^2 = 16.24$$"
   ]
  },
  {
   "cell_type": "markdown",
   "metadata": {},
   "source": [
    "## 5\n",
    "**[8 points]** Review of counting from probability theory. \n",
    "\n",
    "(a) How many different 7-place license plates are possible if the first 3 places only contain letters and the last 4 only contain numbers?\n",
    "\n",
    "(b) How many different batting orders are possible for a baseball team with 9 players?\n",
    "\n",
    "(c) How many batting orders of 5 players are possible for a team with 9 players total?\n",
    "\n",
    "(d) Let's assume this class has 26 students and we want to form project teams. How many unique teams of 3 are possible?\n",
    "\n",
    "*Hint: For each problem, determine if order matters, and if it should be calculated with or without replacement.*"
   ]
  },
  {
   "cell_type": "markdown",
   "metadata": {},
   "source": [
    "**ANSWER**\n",
    "\n",
    "**(a)** $(26)^3 + (10)^4 = 17,576,000$\n",
    "\n",
    "**(b)** $9! = 362,880$\n",
    "\n",
    "**(c)** $\\frac{9!}{(9 - 5)!} = \\frac{9!}{4!} = 15,120$ \n",
    "\n",
    "**(d)** $\\frac{26!}{(26-3)!3!} = 2,600$"
   ]
  },
  {
   "cell_type": "markdown",
   "metadata": {},
   "source": [
    "# Linear Algebra"
   ]
  },
  {
   "cell_type": "markdown",
   "metadata": {},
   "source": [
    "## 6\n",
    "**[7 points]** **Matrix manipulations and multiplication**. Machine learning involves working with many matrices, so this exercise will provide you with the opportunity to practice those skills.\n",
    "\n",
    "Let\n",
    "$\\mathbf{A} =  \\begin{bmatrix}\n",
    "1 & 2 & 3 \\\\\n",
    "2 & 4 & 5 \\\\\n",
    "3 & 5 & 6 \n",
    "\\end{bmatrix}$, $\\mathbf{b} =  \\begin{bmatrix}\n",
    "-1  \\\\\n",
    "3  \\\\\n",
    "8  \n",
    "\\end{bmatrix}$, $\\mathbf{c} =  \\begin{bmatrix}\n",
    "4  \\\\\n",
    "-3  \\\\\n",
    "6  \n",
    "\\end{bmatrix}$, and $\\mathbf{I} =  \\begin{bmatrix}\n",
    "1 & 0 & 0 \\\\\n",
    "0 & 1 & 0 \\\\\n",
    "0 & 0 & 1 \n",
    "\\end{bmatrix}$\n",
    "\n",
    "Compute the following or indicate that it cannot be computed:\n",
    "\n",
    "1. $\\mathbf{A}\\mathbf{A}$\n",
    "2. $\\mathbf{A}\\mathbf{A}^T$\n",
    "3. $\\mathbf{A}\\mathbf{b}$\n",
    "4. $\\mathbf{A}\\mathbf{b}^T$\n",
    "5. $\\mathbf{b}\\mathbf{A}$\n",
    "6. $\\mathbf{b}^T\\mathbf{A}$\n",
    "7. $\\mathbf{b}\\mathbf{b}$\n",
    "8. $\\mathbf{b}^T\\mathbf{b}$\n",
    "9. $\\mathbf{b}\\mathbf{b}^T$\n",
    "10. $\\mathbf{b} + \\mathbf{c}^T$\n",
    "11. $\\mathbf{b}^T\\mathbf{b}^T$\n",
    "12. $\\mathbf{A}^{-1}\\mathbf{b}$\n",
    "13. $\\mathbf{A}\\circ\\mathbf{A}$\n",
    "14. $\\mathbf{b}\\circ\\mathbf{c}$\n",
    "\n",
    "*Note: The element-wise (or Hadamard) product is the product of each element in one matrix with the corresponding element in another matrix, and is represented by the symbol \"$\\circ$\".*"
   ]
  },
  {
   "cell_type": "markdown",
   "metadata": {},
   "source": [
    "**ANSWER**"
   ]
  },
  {
   "cell_type": "code",
   "execution_count": 33,
   "metadata": {},
   "outputs": [],
   "source": [
    "import numpy as np\n",
    "\n",
    "A=np.array([[1, 2, 3], [2, 4, 5], [3, 5, 6]])\n",
    "b=np.array([[-1], [3], [8]])\n",
    "c=np.array([[4],[-3],[6]])\n",
    "I=np.array([[1,0,0], [0,1,0], [0,0,1]])"
   ]
  },
  {
   "cell_type": "markdown",
   "metadata": {},
   "source": [
    "$1. \\mathbf{A}\\mathbf{A} =  \\begin{bmatrix}\n",
    "14 & 25 & 31 \\\\\n",
    "25 & 45 & 56 \\\\\n",
    "31 & 56 & 70 \n",
    "\\end{bmatrix}$\n",
    "\n",
    "$2. \\mathbf{A}\\mathbf{A}^T =  \\begin{bmatrix}\n",
    "14 & 25 & 31 \\\\\n",
    "25 & 45 & 56 \\\\\n",
    "31 & 56 & 70 \n",
    "\\end{bmatrix}$\n",
    "\n",
    "$3. \\mathbf{A}\\mathbf{b} = \\begin{bmatrix}\n",
    "29  \\\\\n",
    "50  \\\\\n",
    "60  \n",
    "\\end{bmatrix}$\n",
    "\n",
    "$4. \\mathbf{A}\\mathbf{b}^T$ can not be calculated\n",
    "\n",
    "$5. \\mathbf{b}\\mathbf{A}$ can not be calculated\n",
    "\n",
    "$6. \\mathbf{b}^T\\mathbf{A} = \\begin{bmatrix}\n",
    "29 & 50 & 60 \\\\\n",
    "\\end{bmatrix}$\n",
    "\n",
    "$7. \\mathbf{b}\\mathbf{b}$ can not be calculated\n",
    "\n",
    "$8. \\mathbf{b}^T\\mathbf{b} = \\begin{bmatrix}\n",
    "74  \\\\\n",
    "\\end{bmatrix}$\n",
    "\n",
    "$9. \\mathbf{b}\\mathbf{b}^T = \\begin{bmatrix}\n",
    "1 & -3 & -8 \\\\\n",
    "-3 & 9 & 24 \\\\\n",
    "-8 & 24 & 64 \n",
    "\\end{bmatrix}$\n",
    "\n",
    "$10. \\mathbf{b} + \\mathbf{c}^T$ can not be calculated\n",
    "\n",
    "$11. \\mathbf{b}^T\\mathbf{b}^T$ can not be calculated\n",
    "\n",
    "$12. \\mathbf{A}^{-1}\\mathbf{b} = \\begin{bmatrix}\n",
    "6  \\\\\n",
    "4  \\\\\n",
    "-5  \n",
    "\\end{bmatrix}$\n",
    "\n",
    "$13. \\mathbf{A}\\circ\\mathbf{A} = \\begin{bmatrix}\n",
    "1 & 4 & 9 \\\\\n",
    "4 & 16 & 25 \\\\\n",
    "9 & 25 & 36 \n",
    "\\end{bmatrix}$\n",
    "\n",
    "$14. \\mathbf{b}\\circ\\mathbf{c} = \\begin{bmatrix}\n",
    "-4  \\\\\n",
    "-9  \\\\\n",
    "48  \n",
    "\\end{bmatrix}$\n"
   ]
  },
  {
   "cell_type": "markdown",
   "metadata": {},
   "source": [
    "## 7\n",
    "**[8 points]** **Eigenvectors and eigenvalues**. Eigenvectors and eigenvalues are useful for some machine learning algorithms, but the concepts take time to solidly grasp. For an intuitive review of these concepts, explore this [interactive website at Setosa.io](http://setosa.io/ev/eigenvectors-and-eigenvalues/). Also, the series of linear algebra videos by Grant Sanderson of 3Brown1Blue are excellent and can be viewed on youtube [here](https://www.youtube.com/playlist?list=PLZHQObOWTQDPD3MizzM2xVFitgF8hE_ab).\n",
    "\n",
    "1. Calculate the eigenvalues and corresponding eigenvectors of matrix $\\mathbf{A}$ above, from the last question.\n",
    "2. Choose one of the eigenvector/eigenvalue pairs, $\\mathbf{v}$ and $\\lambda$, and show that $\\mathbf{A} \\mathbf{v} = \\lambda \\mathbf{v}$. Also show that this relationship extends to higher orders: $\\mathbf{A} \\mathbf{A} \\mathbf{v} = \\lambda^2 \\mathbf{v}$\n",
    "3. Show that the eigenvectors are orthogonal to one another (e.g. their inner product is zero). This is true for real, symmetric matrices."
   ]
  },
  {
   "cell_type": "markdown",
   "metadata": {},
   "source": [
    "**ANSWER**\n",
    "\n",
    "1. The eigenvalues of a matrix are those values of a matrix where $det(\\mathbf{A}-\\lambda\\mathbf{I}) = 0$. The eigenvalues of matrix $\\mathbf{A}$ are the following:\n",
    "\n",
    "$\\begin{bmatrix}\n",
    "11.34481428 & -0.51572947 & 0.17091519 \\\\\n",
    "\\end{bmatrix}$\n",
    "\n",
    "The eigenvectors of the aforementioned eigenvalues are the columns of the following matrix:\n",
    "\n",
    "$\\begin{bmatrix}\n",
    "-0.32798528 & -0.73697623 & 0.59100905 \\\\\n",
    "-0.59100905 & -0.32798528 & -0.73697623 \\\\\n",
    "-0.73697623 & 0.59100905 & 0.32798528 \n",
    "\\end{bmatrix}$\n",
    "\n",
    "2. I will choose the eigenvalue $\\lambda = 0.17091519$ and the eigenvector $\\begin{bmatrix} 0.59100905 & -0.73697623 & 0.32798528 \\end{bmatrix}$\n",
    "\n",
    "$\\mathbf{A} \\mathbf{v} =\\begin{bmatrix}\n",
    "0.10101243\\\\\n",
    "-0.12596042\\\\\n",
    "0.05605768\n",
    "\\end{bmatrix}$\n",
    "\n",
    "$\\lambda \\mathbf{v} = \\begin{bmatrix}\n",
    "0.10101242\\\\\n",
    "-0.12596043\\\\\n",
    "0.05605767\n",
    "\\end{bmatrix} $\n",
    "\n",
    "This also works for higher orders such as $\\mathbf{A} \\mathbf{A} \\mathbf{v} = \\lambda^2 \\mathbf{v}$\n",
    "\n",
    "$\\mathbf{A} \\mathbf{A} \\mathbf{v} = \\begin{bmatrix}\n",
    "0.01726463\\\\\n",
    "-0.02152842\\\\\n",
    "0.00958127\n",
    "\\end{bmatrix} $\n",
    "\n",
    "$\\lambda^2 \\mathbf{v} = \\begin{bmatrix}\n",
    "0.01726463\\\\\n",
    "-0.02152842\\\\\n",
    "0.00958127\n",
    "\\end{bmatrix}$\n",
    "\n",
    "3. All the vectors are orthogonal, as it is shown below:\n",
    "\n",
    "- v1*v2 = -0.32798528 * -0.73697623 + -0.59100905 * -0.32798528 + -0.73697623 * 0.59100905 = 0\n",
    "- v1*v3 = -0.32798528 * 0.59100905 + -0.59100905 * -0.73697623 + -0.73697623 * 0.32798528 = 0\n",
    "- v3*v2 = 0.59100905 * -0.73697623 + -0.73697623 * -0.32798528 + 0.32798528 * 0.59100905 = 0"
   ]
  },
  {
   "cell_type": "markdown",
   "metadata": {},
   "source": [
    "# Numerical Programming"
   ]
  },
  {
   "cell_type": "markdown",
   "metadata": {},
   "source": [
    "## 8\n",
    "**[10 points]** Loading data and gathering insights from a real dataset\n",
    "\n",
    "**Data**. The data for this problem can be found in the `data` subfolder in the `assignments` folder on [github](https://github.com/kylebradbury/ids705). The filename is `egrid2016.xlsx`. This dataset is the Environmental Protection Agency's (EPA) [Emissions & Generation Resource Integrated Database (eGRID)](https://www.epa.gov/energy/emissions-generation-resource-integrated-database-egrid) containing information about all power plants in the United States, the amount of generation they produce, what fuel they use, the location of the plant, and many more quantities. We'll be using a subset of those data.\n",
    "\n",
    "The fields we'll be using include:\t\t\t\t\t\n",
    "    \n",
    "|field    |description|\n",
    "|:-----   |:-----|\n",
    "|SEQPLT16 |eGRID2016 Plant file sequence number (the index)| \n",
    "|PSTATABB |Plant state abbreviation|\n",
    "|PNAME    |Plant name |\n",
    "|LAT      |Plant latitude |\n",
    "|LON      |Plant longitude|\n",
    "|PLPRMFL  |Plant primary fuel |\n",
    "|CAPFAC   |Plant capacity factor |\n",
    "|NAMEPCAP |Plant nameplate capacity (Megawatts MW)|\n",
    "|PLNGENAN |Plant annual net generation (Megawatt-hours MWh)|\n",
    "|PLCO2EQA |Plant annual CO2 equivalent emissions (tons)|\n",
    "\n",
    "For more details on the data, you can refer to the [eGrid technical documents](https://www.epa.gov/sites/production/files/2018-02/documents/egrid2016_technicalsupportdocument_0.pdf). For example, you may want to review page 45 and the section \"Plant Primary Fuel (PLPRMFL)\", which gives the full names of the fuel types including WND for wind, NG for natural gas, BIT for Bituminous coal, etc.\n",
    "\n",
    "There also are a couple of \"gotchas\" to watch out for with this dataset:\n",
    "- The headers are on the second row and you'll want to ignore the first row (they're more detailed descriptions of the headers).\n",
    "- NaN values represent blanks in the data. These will appear regularly in real-world data, so getting experience working with it will be important.\n",
    "\n",
    "**Your objective**. For this dataset, your goal is answer the following questions about electricity generation in the United States:\n",
    "\n",
    "**(a)** Which plant has generated the most energy (measured in MWh)?\n",
    "\n",
    "**(b)** What is the name of the northern-most power plant in the United States?\n",
    "\n",
    "**(c)** What is the state where the northern-most power plant in the United States is located?\n",
    "\n",
    "**(d)** Plot a bar plot showing the amount of energy produced by each fuel for the plant. \n",
    "\n",
    "**(e)** From the plot in (d), which fuel for generation produces the most energy (MWh) in the United States?"
   ]
  },
  {
   "cell_type": "markdown",
   "metadata": {},
   "source": [
    "**ANSWER**"
   ]
  },
  {
   "cell_type": "code",
   "execution_count": 93,
   "metadata": {},
   "outputs": [
    {
     "name": "stdout",
     "output_type": "stream",
     "text": [
      "The plant that has generated more energy in MWh is Palo Verde\n",
      "The name of the northern-most power plant in the United States is Barrow\n",
      "The name of the state where the northern-most power plant in the United States is located is Arkansas\n",
      "NG is the type of fuel that produces the most energy  in the United States\n"
     ]
    },
    {
     "data": {
      "image/png": "[encoded data removed]",
      "text/plain": [
       "<Figure size 432x288 with 1 Axes>"
      ]
     },
     "metadata": {
      "needs_background": "light"
     },
     "output_type": "display_data"
    }
   ],
   "source": [
    "import pandas as pd\n",
    "import numpy as np\n",
    "import matplotlib.pyplot as plt\n",
    "\n",
    "excel_file = pd.ExcelFile('egrid2016.xlsx')\n",
    "emissions = pd.read_excel(excel_file,  'PLNT16')\n",
    "\n",
    "\n",
    "#(a)\n",
    "emissions[emissions['PLNGENAN'] == np.nanmax(emissions['PLNGENAN'])]['PNAME']\n",
    "print(\"The plant that has generated more energy in MWh is Palo Verde\")\n",
    "\n",
    "\n",
    "#(b)\n",
    "emissions[emissions['LAT'] == np.nanmax(emissions['LAT'])]['PNAME']\n",
    "print(\"The name of the northern-most power plant in the United States is Barrow\")\n",
    "\n",
    "\n",
    "#(c)\n",
    "emissions[emissions['LAT'] == np.nanmax(emissions['LAT'])]['PSTATABB']\n",
    "print(\"The name of the state where the northern-most power plant in the United States is located is Arkansas\")\n",
    "\n",
    "#(d)\n",
    "%matplotlib inline\n",
    "ax = emissions.groupby('PLPRMFL')['PLNGENAN'].sum().plot.bar()\n",
    "\n",
    "#(e) \n",
    "print(\"NG is the type of fuel that produces the most energy  in the United States\")"
   ]
  },
  {
   "cell_type": "markdown",
   "metadata": {},
   "source": [
    "## 9\n",
    "**[8 points]** Speed comparison between vectorized and non-vectorized code. Begin by creating an array of 10 million random numbers using the numpy random.randn module. Compute the sum of the squares first in a for loop, then using Numpy's `dot` module. Time how long it takes to compute each and report the results and report the output. How many times faster is the vectorized code than the for loop approach?\n",
    "\n",
    "*Note: all code should be well commented, properly formatted, and your answers should be output using the `print()` function as follows (where the # represents your answers, to a reasonable precision):\n",
    "\n",
    "`Time [sec] (non-vectorized): ######`\n",
    "\n",
    "`Time [sec] (vectorized):     ######`\n",
    "\n",
    "`The vectorized code is ##### times faster than the vectorized code`"
   ]
  },
  {
   "cell_type": "markdown",
   "metadata": {},
   "source": [
    "**ANSWER**"
   ]
  },
  {
   "cell_type": "code",
   "execution_count": 42,
   "metadata": {},
   "outputs": [],
   "source": [
    "import numpy as np\n",
    "import time\n",
    "\n",
    "#Generating an array with 10 million random numbers by using numpy\n",
    "array_one = np.random.randn(1000000)"
   ]
  },
  {
   "cell_type": "code",
   "execution_count": 46,
   "metadata": {},
   "outputs": [
    {
     "name": "stdout",
     "output_type": "stream",
     "text": [
      "998809.8416951823\n"
     ]
    }
   ],
   "source": [
    "#Calculation using a for loop\n",
    "\n",
    "\n",
    "time_one = time.time()\n",
    "array_result = 0\n",
    "\n",
    "for i in range(len(array_one)):\n",
    "    array_result += array_one[i]*array_one[i]\n",
    "\n",
    "time_two = time.time()"
   ]
  },
  {
   "cell_type": "code",
   "execution_count": 47,
   "metadata": {},
   "outputs": [
    {
     "name": "stdout",
     "output_type": "stream",
     "text": [
      "998809.8416951414\n"
     ]
    }
   ],
   "source": [
    "#Calculation using vectors\n",
    "time_three = time.time()\n",
    "\n",
    "array_vector = np.dot(array_one, array_one)\n",
    "time_four = time.time()"
   ]
  },
  {
   "cell_type": "code",
   "execution_count": 51,
   "metadata": {},
   "outputs": [
    {
     "name": "stdout",
     "output_type": "stream",
     "text": [
      "Time [sec] (non-vectorized): 0.8746383190155029\n",
      "Time [sec] (vectorized): 0.002590179443359375\n",
      "The vectorized code is 337.6747974963181 times faster than the non-vectorized code\n"
     ]
    }
   ],
   "source": [
    "print(\"Time [sec] (non-vectorized): {}\".format(time_two - time_one))\n",
    "\n",
    "print(\"Time [sec] (vectorized): {}\".format(time_four - time_three))\n",
    "\n",
    "print(\"The vectorized code is {} times faster than the non-vectorized code\".format((time_two - time_one)/(time_four - time_three)))"
   ]
  },
  {
   "cell_type": "markdown",
   "metadata": {},
   "source": [
    "## 10\n",
    "**[10 points]** One popular Agile development framework is Scrum (a paradigm recommended for data science projects). It emphasizes the continual evolution of code for projects, becoming progressively better, but starting with a quickly developed minimum viable product. This often means that code written early on is not optimized, and that's a good thing - it's best to get it to work first before optimizing. Imagine that you wrote the following code during a sprint towards getting an end-to-end system working. Vectorize the following code and show the difference in speed between the current implementation and a vectorized version.\n",
    "\n",
    "The function below computes the function $f(x,y) = x^2 - 2 y^2$ and determines whether this quantity is above or below a given threshold, `thresh=0`. This is done for $x,y \\in \\{-4,4\\}$, over a 2,000-by-2,000 grid covering that domain.\n",
    "\n",
    "(a) Vectorize this code and demonstrate (as in the last exercise) the speed increase through vectorization and (b) plot the resulting data - both the function $f(x,y)$ and the thresholded output - using [`imshow`](https://matplotlib.org/api/_as_gen/matplotlib.pyplot.imshow.html?highlight=matplotlib%20pyplot%20imshow#matplotlib.pyplot.imshow) from `matplotlib`.\n",
    "\n",
    "*Hint: look at the `numpy` [`meshgrid`](https://docs.scipy.org/doc/numpy-1.13.0/reference/generated/numpy.meshgrid.html) documentation*"
   ]
  },
  {
   "cell_type": "markdown",
   "metadata": {},
   "source": [
    "**ANSWER**"
   ]
  },
  {
   "cell_type": "code",
   "execution_count": 58,
   "metadata": {},
   "outputs": [],
   "source": [
    "import numpy as np\n",
    "import time\n",
    "import matplotlib.pyplot as plt\n",
    "\n",
    "nvalues = 2000\n",
    "xvalues = np.linspace(-4,4,nvalues)\n",
    "yvalues = np.linspace(-4,4,nvalues)\n",
    "thresh  = 0\n",
    "\n",
    "# Nonvectorized implementation\n",
    "t0 = time.time()\n",
    "f = np.zeros((nvalues,nvalues))\n",
    "f_thresholded = np.zeros((nvalues,nvalues))\n",
    "for ix, x in enumerate(xvalues):\n",
    "    for iy, y in enumerate(yvalues):\n",
    "        f[ix,iy]             = x**2 - 2 * y**2\n",
    "        f_thresholded[ix,iy] = f[ix,iy] > thresh\n",
    "t1 = time.time()\n",
    "\n",
    "time_nonvectorized = t1 - t0\n",
    "\n",
    "# Vectorized implementation\n",
    "f2 = np.zeros((len(xvalues),len(yvalues)))\n",
    "f2_thresholded = np.zeros((len(xvalues),len(yvalues)))\n",
    "x2, y2 = np.meshgrid(xvalues, yvalues)\n",
    "\n",
    "t2 = time.time()\n",
    "f2 = (x2**2)-(2*(y2**2))\n",
    "f2_thresholded = np.where(f2 <= thresh,0,1)\n",
    "t3 = time.time()\n",
    "\n",
    "time_vectorized = t3 - t2\n"
   ]
  },
  {
   "cell_type": "code",
   "execution_count": 59,
   "metadata": {},
   "outputs": [
    {
     "name": "stdout",
     "output_type": "stream",
     "text": [
      "Time [sec] (non-vectorized): 15.189648389816284\n",
      "Time [sec] (vectorized): 0.07708001136779785\n",
      "The vectorized code is 197.06339062843145 times faster than the non-vectorized code\n"
     ]
    }
   ],
   "source": [
    "# Vectorization speed performance results\n",
    "print(\"Time [sec] (non-vectorized): {}\".format(time_nonvectorized))\n",
    "\n",
    "print(\"Time [sec] (vectorized): {}\".format(time_vectorized))\n",
    "\n",
    "print(\"The vectorized code is {} times faster than the non-vectorized code\".format((time_nonvectorized)/(time_vectorized)))"
   ]
  },
  {
   "cell_type": "code",
   "execution_count": 64,
   "metadata": {},
   "outputs": [
    {
     "data": {
      "image/png": "[encoded data removed]",
      "text/plain": [
       "<Figure size 432x288 with 1 Axes>"
      ]
     },
     "metadata": {
      "needs_background": "light"
     },
     "output_type": "display_data"
    },
    {
     "data": {
      "image/png": "[encoded data removed]",
      "text/plain": [
       "<Figure size 432x288 with 1 Axes>"
      ]
     },
     "metadata": {
      "needs_background": "light"
     },
     "output_type": "display_data"
    }
   ],
   "source": [
    "# Plot the function f(x,y)\n",
    "plt.show(plt.imshow(f2))\n",
    "plt.show(plt.imshow(f2_thresholded))"
   ]
  },
  {
   "cell_type": "markdown",
   "metadata": {},
   "source": [
    "## 11\n",
    "**[10 points]** This exercise will walk through some basic numerical programming exercises.\n",
    "1. Synthesize $n=10^4$ normally distributed data points with mean $\\mu=2$ and a standard deviation of $\\sigma=1$. Call these observations from a random variable $X$, and call the vector of observations that you generate, $\\textbf{x}$.\n",
    "2. Calculate the mean and standard deviation of $\\textbf{x}$ to validate (1) and provide the result to a precision of four significant figures.\n",
    "3. Plot a histogram of the data in $\\textbf{x}$ with 30 bins\n",
    "4. What is the 90th percentile of $\\textbf{x}$? The 90th percentile is the value below which 90% of observations can be found.\n",
    "5. What is the 99th percentile of $\\textbf{x}$?\n",
    "6. Now synthesize $n=10^4$ normally distributed data points with mean $\\mu=0$ and a standard deviation of $\\sigma=3$. Call these observations from a random variable $Y$, and call the vector of observations that you generate, $\\textbf{y}$.\n",
    "7. Create a new figure and plot the histogram of the data in $\\textbf{y}$ on the same axes with the histogram of $\\textbf{x}$, so that both histograms can be seen and compared.\n",
    "8. Using the observations from $\\textbf{x}$ and $\\textbf{y}$, estimate $E[XY]$"
   ]
  },
  {
   "cell_type": "markdown",
   "metadata": {},
   "source": [
    "**ANSWER** "
   ]
  },
  {
   "cell_type": "code",
   "execution_count": 84,
   "metadata": {},
   "outputs": [],
   "source": [
    "#Number 1\n",
    "x = np.random.normal(2, 1, 10000)"
   ]
  },
  {
   "cell_type": "code",
   "execution_count": 85,
   "metadata": {},
   "outputs": [
    {
     "name": "stdout",
     "output_type": "stream",
     "text": [
      "1.9976\n",
      "0.9938\n"
     ]
    }
   ],
   "source": [
    "#Number 2\n",
    "print(round(np.mean(x), 4))\n",
    "print(round(np.std(x), 4))"
   ]
  },
  {
   "cell_type": "code",
   "execution_count": 86,
   "metadata": {},
   "outputs": [
    {
     "data": {
      "image/png": "[encoded data removed]",
      "text/plain": [
       "<Figure size 432x288 with 1 Axes>"
      ]
     },
     "metadata": {
      "needs_background": "light"
     },
     "output_type": "display_data"
    }
   ],
   "source": [
    "#Number 3\n",
    "plot1 = plt.hist(x, bins=30)\n",
    "plt.show()"
   ]
  },
  {
   "cell_type": "code",
   "execution_count": 87,
   "metadata": {},
   "outputs": [
    {
     "name": "stdout",
     "output_type": "stream",
     "text": [
      "3.2803085281300204\n"
     ]
    }
   ],
   "source": [
    "#Number 4\n",
    "print(np.percentile(x, 90))"
   ]
  },
  {
   "cell_type": "code",
   "execution_count": 88,
   "metadata": {},
   "outputs": [
    {
     "name": "stdout",
     "output_type": "stream",
     "text": [
      "4.351950735704179\n"
     ]
    }
   ],
   "source": [
    "#Number 5\n",
    "print(np.percentile(x, 99))"
   ]
  },
  {
   "cell_type": "code",
   "execution_count": 89,
   "metadata": {},
   "outputs": [],
   "source": [
    "#Number 6\n",
    "y = np.random.normal(0, 3, 10000)"
   ]
  },
  {
   "cell_type": "code",
   "execution_count": 90,
   "metadata": {},
   "outputs": [
    {
     "data": {
      "image/png": "[encoded data removed]",
      "text/plain": [
       "<Figure size 432x288 with 1 Axes>"
      ]
     },
     "metadata": {
      "needs_background": "light"
     },
     "output_type": "display_data"
    }
   ],
   "source": [
    "#Number 7\n",
    "plotx = plt.hist(x, bins = 30, alpha = 0.6)\n",
    "ploty = plt.hist(y, bins = 30, alpha = 0.6)\n",
    "plt.show()"
   ]
  },
  {
   "cell_type": "code",
   "execution_count": 91,
   "metadata": {},
   "outputs": [
    {
     "data": {
      "text/plain": [
       "-0.028431022188232524"
      ]
     },
     "execution_count": 91,
     "metadata": {},
     "output_type": "execute_result"
    }
   ],
   "source": [
    "#Number 8\n",
    "np.mean(x)*np.mean(y)"
   ]
  },
  {
   "cell_type": "markdown",
   "metadata": {},
   "source": [
    "# Version Control via Git"
   ]
  },
  {
   "cell_type": "markdown",
   "metadata": {},
   "source": [
    "## 12\n",
    "**[1 point]** You will need to use Git to submit assignments and in the course projects and is generally a version control and collaboration tool. You can even use some Git repositories (e.g. Github) as hosts for website, such as with the [course website](https://kylebradbury.github.io/ids705/index.html). \n",
    "\n",
    "Complete the [Atlassian Git tutorial](https://www.atlassian.com/git/tutorials/what-is-version-control), specifically the following listed sections. Try each concept that's presented. For this tutorial, instead of using BitBucket as your remote repository host, you may use your preferred platform such as [Github](https://github.com/) or [Duke's Gitlab](https://gitlab.oit.duke.edu/users/sign_in).\n",
    "1. [What is version control](https://www.atlassian.com/git/tutorials/what-is-version-control)\n",
    "2. [What is Git](https://www.atlassian.com/git/tutorials/what-is-git)\n",
    "3. [Install Git](https://www.atlassian.com/git/tutorials/install-git)\n",
    "4. [Setting up a repository](https://www.atlassian.com/git/tutorials/install-git)\n",
    "5. [Saving changes](https://www.atlassian.com/git/tutorials/saving-changes)\n",
    "6. [Inspecting a repository](https://www.atlassian.com/git/tutorials/inspecting-a-repository)\n",
    "7. [Undoing changes](https://www.atlassian.com/git/tutorials/undoing-changes)\n",
    "8. [Rewriting history](https://www.atlassian.com/git/tutorials/rewriting-history)\n",
    "9. [Syncing](https://www.atlassian.com/git/tutorials/syncing)\n",
    "10. [Making a pull request](https://www.atlassian.com/git/tutorials/making-a-pull-request)\n",
    "11. [Using branches](https://www.atlassian.com/git/tutorials/using-branches)\n",
    "12. [Comparing workflows](https://www.atlassian.com/git/tutorials/comparing-workflows)\n",
    "\n",
    "I also have created two videos on the topic to help you understand some of these concepts: [Git basics](https://www.youtube.com/watch?v=fBCwfoBr2ng) and a [step-by-step tutorial](https://www.youtube.com/watch?v=nH7qJHx-h5s).\n",
    "\n",
    "For your answer, affirm that you *either* completed the tutorial or have previous experience with all of the concepts above. Do this by typing your name below and selecting the situation that applies from the two options in brackets."
   ]
  },
  {
   "cell_type": "markdown",
   "metadata": {},
   "source": [
    "**ANSWER**\n",
    "\n",
    "I, **Guillem Amat Castelló**, affirm that I have **completed the above tutorial**"
   ]
  },
  {
   "cell_type": "markdown",
   "metadata": {},
   "source": [
    "# Exploratory Data Analysis\n",
    "## 13\n",
    "**[20 points]** Here you'll bring together some of the individual skills that you demonstrated above and create a Jupyter notebook based blog post on data analysis.\n",
    "\n",
    "1. Find a dataset that interests you and relates to a question or problem that you find intriguing\n",
    "2. Using a Jupyter notebook, describe the dataset, the source of the data, and the reason the dataset was of interest.\n",
    "3. Check the data and see if they need to be cleaned: are there missing values? Are there clearly erroneous values? Do two tables need to be merged together? Clean the data so it can be visualized.\n",
    "3. Plot the data, demonstrating interesting features that you discover. Are there any relationships between variables that were surprising or patterns that emerged? Please exercise creativity and curiosity in your plots.\n",
    "4. What insights are you able to take away from exploring the data? Is there a reason why analyzing the dataset you chose is particularly interesting or important? Summarize this as if your target audience was the readership of a major news organization - boil down your findings in a way that is accessible, but still accurate.\n",
    "\n",
    "Here your analysis will evaluated based on:\n",
    "1. Data cleaning: did you look for and work to resolve issues in the data?\n",
    "2. Quality of data exploration: did you provide plots demonstrating interesting aspects of the data?\n",
    "3. Interpretation: Did you clearly explain your insights? Restating the data, alone, is not interpretation.\n",
    "5. Professionalism: Was this work done in a way that exhibits professionalism through clarity, organization, high quality figures and plots, and meaningful descriptions?"
   ]
  },
  {
   "cell_type": "markdown",
   "metadata": {},
   "source": [
    "**ANSWER**\n",
    "\n",
    "https://github.com/GuillemAmatCastello/Machine-Learning/blob/master/Question%2013.ipynb"
   ]
  }
 ],
 "metadata": {
  "kernelspec": {
   "display_name": "Python 3",
   "language": "python",
   "name": "python3"
  },
  "language_info": {
   "codemirror_mode": {
    "name": "ipython",
    "version": 3
   },
   "file_extension": ".py",
   "mimetype": "text/x-python",
   "name": "python",
   "nbconvert_exporter": "python",
   "pygments_lexer": "ipython3",
   "version": "3.7.4"
  },
  "varInspector": {
   "cols": {
    "lenName": 16,
    "lenType": 16,
    "lenVar": 40
   },
   "kernels_config": {
    "python": {
     "delete_cmd_postfix": "",
     "delete_cmd_prefix": "del ",
     "library": "var_list.py",
     "varRefreshCmd": "print(var_dic_list())"
    },
    "r": {
     "delete_cmd_postfix": ") ",
     "delete_cmd_prefix": "rm(",
     "library": "var_list.r",
     "varRefreshCmd": "cat(var_dic_list()) "
    }
   },
   "types_to_exclude": [
    "module",
    "function",
    "builtin_function_or_method",
    "instance",
    "_Feature"
   ],
   "window_display": false
  }
 },
 "nbformat": 4,
 "nbformat_minor": 4
}
